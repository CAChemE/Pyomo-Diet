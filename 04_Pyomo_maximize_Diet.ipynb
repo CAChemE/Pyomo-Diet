{
 "cells": [
  {
   "cell_type": "markdown",
   "metadata": {
    "slideshow": {
     "slide_type": "slide"
    }
   },
   "source": [
    "# DIET PROBLEM - PYOMO\n",
    "\n",
    "*Zuria Bauer Hartwig and David Senén García Hurtado* ( [CAChemE](http://cacheme.org))"
   ]
  },
  {
   "cell_type": "markdown",
   "metadata": {
    "slideshow": {
     "slide_type": "subslide"
    }
   },
   "source": [
    "Sources:\n",
    "\n",
    "* Original Problem: [Linear and Integer Programming](https://www.coursera.org/course/linearprogramming) (Coursera Course) - University of Colorado Boulder & University of Colorado System\n",
    "\n",
    "* Based on the Examples from the Optimization Course = [Taller-Optimizacion-Python-Pyomo](https://github.com/CAChemE/Taller-Optimizacion-Python-Pyomo) from [CAChemE.org](http://cacheme.org/optimizacion-programacion-matematica-con-python-pyomo/)\n",
    "\n",
    "* [Neos Guide - The Diet Problem](http://www.neos-guide.org/content/diet-problem)"
   ]
  },
  {
   "cell_type": "markdown",
   "metadata": {
    "slideshow": {
     "slide_type": "slide"
    }
   },
   "source": [
    "## Big picture"
   ]
  },
  {
   "cell_type": "markdown",
   "metadata": {
    "slideshow": {
     "slide_type": "slide"
    }
   },
   "source": [
    "Now let's play with Pyomo. What if we want to maximize the amount of calories we can get for less than $10?"
   ]
  },
  {
   "cell_type": "markdown",
   "metadata": {
    "slideshow": {
     "slide_type": "fragment"
    }
   },
   "source": [
    "<img src=\"img/now-talking.jpg\" alt=\"talking\" style=\"width: 600px;\"/>"
   ]
  },
  {
   "cell_type": "markdown",
   "metadata": {
    "slideshow": {
     "slide_type": "slide"
    }
   },
   "source": [
    "#### 1. Import"
   ]
  },
  {
   "cell_type": "code",
   "execution_count": 11,
   "metadata": {
    "collapsed": true,
    "slideshow": {
     "slide_type": "fragment"
    }
   },
   "outputs": [],
   "source": [
    "from pyomo.environ import *\n",
    "infinity = float('inf')\n",
    "\n",
    "# We are importing Pyomo library to our Python enviroment\n",
    "\n",
    "# Side-note:\n",
    "# Usually importing all (*) the library is a VERY BAD idea\n",
    "# By convention Pyomo documentation does that so here we are"
   ]
  },
  {
   "cell_type": "markdown",
   "metadata": {
    "slideshow": {
     "slide_type": "slide"
    }
   },
   "source": [
    "# 2. Data"
   ]
  },
  {
   "cell_type": "markdown",
   "metadata": {
    "slideshow": {
     "slide_type": "subslide"
    }
   },
   "source": [
    "We can use the following data:\n",
    "\n",
    "- http://fastfoodnutrition.org/mcdonalds/chart\n",
    "- http://www.fastfoodmenuprices.com/mcdonalds-prices/"
   ]
  },
  {
   "cell_type": "code",
   "execution_count": 12,
   "metadata": {
    "collapsed": false,
    "slideshow": {
     "slide_type": "slide"
    }
   },
   "outputs": [
    {
     "name": "stdout",
     "output_type": "stream",
     "text": [
      "# http://fastfoodnutrition.org/mcdonalds/chart\r\n",
      "# http://www.fastfoodmenuprices.com/mcdonalds-prices/\r\n",
      "\r\n",
      "#Food + Cost\r\n",
      "\r\n",
      "param:  F:                                                 Cal  :=\r\n",
      "\"1 Low Fat Milk Jug\"                           100    \r\n",
      "\"Blueberry Pomegranate Smoothie\"               220    \r\n",
      "\"Coca-Cola Classic\"                            210    \r\n",
      "\"Dr Pepper\"                                    210    \r\n",
      "\"Fat Free Chocolate Milk Jug\"                  130    \r\n",
      "\"Hi-C Orange Lavaburst\"                        240  \r\n",
      "\"Mango Pineapple Smoothie\"                     220    \r\n",
      "\"McCafe Classic Lemonade\"                      100   \r\n",
      "\"Minute Maid Apple Juice Box\"                  100   \r\n",
      "\"Minute Maid® Orange Juice\"                    190  \r\n",
      "\"POWERade Mountain Berry Blast\"                150  \r\n",
      "\"Red Flash Extra Small\"                        110  \r\n",
      "\"Red Flash Large\"                              300    \r\n",
      "\"Red Flash Medium\"                             220    \r\n",
      "\"Red Flash Small\"                              150     \r\n",
      "\"Sprite\"                                       210    \r\n",
      "\"Strawberry Banana Smoothie\"                   210    \r\n",
      "\"Sweet Tea\"                                    180     \r\n",
      "\"Bacon  Egg & Cheese Bagel\"                    560     \r\n",
      "\"Bacon  Egg & Cheese Bagel w/ Egg Whites\"      510     \r\n",
      "\"Bacon  Egg & Cheese Biscuit\"                  420     \r\n",
      "\"Bacon  Egg & Cheese Biscuit w/ Egg Whites\"    360     \r\n",
      "\"Bacon  Egg & Cheese McGriddles\"               420     \r\n",
      "\"Bacon  Egg & Cheese McGriddles w/ Egg Whites\" 360     \r\n",
      "\"Big Breakfast w/ Egg Whites\"                  640     \r\n",
      "\"Big Breakfast w/ Hotcakes & Egg Whites\"       990     \r\n",
      "\"Big Breakfast with Hotcakes\"                  1090    \r\n",
      "\"Big Breakfast®\"                               740     \r\n",
      "\"Cinnamon Melts\"                               460    \r\n",
      "\"Egg McMuffin\"                                 300     \r\n",
      "\"Egg White Delight McMuffin\"                   250     \r\n",
      "\"Fruit & Maple Oatmeal w/ Brown Sugar\"         290     \r\n",
      "\"Fruit & Maple Oatmeal w/o Brown Sugar\"        260    \r\n",
      "\"Hash Brown\"                                   150   \r\n",
      "\"Hotcakes\"                                     350     \r\n",
      "\"Hotcakes and Sausage\"                         520     \r\n",
      "\"Sausage Biscuit\"                              430     \r\n",
      "\"Sausage Biscuit w/ Egg Whites\"                460     \r\n",
      "\"Sausage Biscuit with Egg\"                     510     \r\n",
      "\"Sausage Burrito\"                              300     \r\n",
      "\"Sausage McGriddles®\"                          420     \r\n",
      "\"Sausage McMuffin w/ Egg Whites\"               400     \r\n",
      "\"Sausage McMuffin®\"                            370     \r\n",
      "\"Sausage McMuffin® with Egg\"                   450     \r\n",
      "\"Sausage  Egg & Cheese McGriddles\"             560     \r\n",
      "\"Sausage  Egg & Cheese McGriddles Egg Whites\"  500     \r\n",
      "\"Southern Style Chicken Biscuit\"               410     \r\n",
      "\"Steak & Egg Biscuit\"                          540     \r\n",
      "\"Artisan Grilled Chicken Sandwich\"             360     \r\n",
      "\"Bacon & Cheese Sirloin Third Pound Burger\"    810     \r\n",
      "\"Bacon Buffalo Ranch McChicken\"                420     \r\n",
      "\"Bacon Cheddar McChicken\"                      480     \r\n",
      "\"Bacon Clubhouse Burger\"                       720     \r\n",
      "\"Bacon Clubhouse Chicken Sandwich wC/ Chicken\" 750     \r\n",
      "\"Bacon Clubhouse Chicken Sandwich wG/ Chicken\" 590     \r\n",
      "\"Bacon McDouble\"                               460     \r\n",
      "\"BBQ Ranch Burger\"                             350     \r\n",
      "\"Big Mac\"                                      540     \r\n",
      "\"Buffalo Ranch McChicken\"                      350     \r\n",
      "\"Cheeseburger\"                                 300     \r\n",
      "\"Daily Double\"                                 440     \r\n",
      "\"Double Cheeseburger\"                          440     \r\n",
      "\"Double Quarter Pounder® with Cheese\"          740     \r\n",
      "\"Filet-O-Fish®\"                                380     \r\n",
      "\"Grilled Onion Cheddar Burger\"                 310     \r\n",
      "\"Hamburger\"                                    250     \r\n",
      "\"Jalapeño Double\"                              430     \r\n",
      "\"Lettuce & Tomato Sirloin Third Pound Burger\"  750     \r\n",
      "\"McChicken\"                                    360     \r\n",
      "\"McDouble\"                                     390     \r\n",
      "\"McRib\"                                        500     \r\n",
      "\"Old Bay Filet-O-Fish\"                         390     \r\n",
      "\"Premium Buttermilk CrispyChicken DeluxeSandw\" 580     \r\n",
      "\"Premium Crispy Chicken Deluxe Sandwich\"       530     \r\n",
      "\"Premium McWrap Chicken & Bacon wC/ Chicken\"   600     \r\n",
      "\"Premium McWrap Chicken & Bacon wG/ Chicken\"   440     \r\n",
      "\"Premium McWrap Chicken & Ranch wC/ Chicken\"   590     \r\n",
      "\"Premium McWrap Chicken & Ranch wG/ Chicken\"   430     \r\n",
      "\"Premium McWrap Chicken SweetChili wC/ Chicken\" 520    \r\n",
      "\"Premium McWrap Chicken SweetChili wG/ Chicken\" 360    \r\n",
      "\"Premium McWrap Southwest Chicken wC/ Chicken\" 680     \r\n",
      "\"Premium McWrap Southwest Chicken wG/ Chicken\" 520     \r\n",
      "\"Quarter Pounder Bacon & Cheese\"               600     \r\n",
      "\"Quarter Pounder Deluxe\"                       540     \r\n",
      "\"Quarter Pounder® with Cheese\"                 510     \r\n",
      "\"Southern Style Crispy Chicken Sandwich\"       420     \r\n",
      "\"Steakhouse Sirloin Third Pound Burger\"        730     \r\n",
      "\"Baked Hot Apple Pie\"                          250    \r\n",
      "\"Chocolate Chip Cookie\"                        160    \r\n",
      "\"Chocolate McCafe Shake\"                       560    \r\n",
      "\"Fried Cherry Pie\"                             230    \r\n",
      "\"Hot Caramel Sundae\"                           340    \r\n",
      "\"Hot Fudge Sundae\"                             330    \r\n",
      "\"Kiddie Ice Cream Cone\"                        45     \r\n",
      "\"McCafe Shamrock Shake\"                        530    \r\n",
      "\"McFlurry w/ M&M's Candies\"                    650    \r\n",
      "\"McFlurry w/ OREO Cookies\"                     510    \r\n",
      "\"Oatmeal Raisin Cookie\"                        150    \r\n",
      "\"Pumpkin and Creme Pie\"                        270    \r\n",
      "\"Strawberry & Creme Pie\"                       310    \r\n",
      "\"Strawberry McCafe Shake\"                      550    \r\n",
      "\"Strawberry Sundae\"                            280    \r\n",
      "\"Premium Asian Salad w/ Crispy Chicken\"        410     \r\n",
      "\"Premium Asian Salad w/ Grilled Chicken\"       270     \r\n",
      "\"Premium Asian Salad w/o Chicken\"              140     \r\n",
      "\"Premium Bacon Ranch Salad w/ Crispy Chicken\"  390     \r\n",
      "\"Premium Bacon Ranch Salad w/ Grilled Chicken\" 230     \r\n",
      "\"Premium Bacon Ranch Salad w/o Chicken\"        140    \r\n",
      "\"Premium Southwest Salad w/ Crispy Chicken\"    450     \r\n",
      "\"Premium Southwest Salad w/ Grilled Chicken\"   290     \r\n",
      "\"Premium Southwest Salad w/o Chicken\"          140    ; \r\n",
      "\r\n",
      "# Max and Min Cost\r\n",
      "param:  N:       Cmin   Cmax    :=\r\n",
      "        Cost     0      10;\r\n",
      "\r\n",
      "\r\n",
      "\r\n",
      "# Amount of nutrient\r\n",
      "\r\n",
      "param a:\r\n",
      "                                                            Cost :=\r\n",
      "\"1 Low Fat Milk Jug\"                                        1  \r\n",
      "\"Blueberry Pomegranate Smoothie\"                            3.39  \r\n",
      "\"Coca-Cola Classic\"                                         1.49  \r\n",
      "\"Dr Pepper\"                                                 1.99  \r\n",
      "\"Fat Free Chocolate Milk Jug\"                               2.29  \r\n",
      "\"Hi-C Orange Lavaburst\"                                     1.59  \r\n",
      "\"Mango Pineapple Smoothie\"                                  2.39  \r\n",
      "\"McCafe Classic Lemonade\"                                   1.79  \r\n",
      "\"Minute Maid Apple Juice Box\"                               2.09  \r\n",
      "\"Minute Maid® Orange Juice\"                                 2.09  \r\n",
      "\"POWERade Mountain Berry Blast\"                             2  \r\n",
      "\"Red Flash Extra Small\"                                     1.59  \r\n",
      "\"Red Flash Large\"                                           2.3  \r\n",
      "\"Red Flash Medium\"                                          2.1  \r\n",
      "\"Red Flash Small\"                                           1.89  \r\n",
      "\"Sprite\"                                                    1  \r\n",
      "\"Strawberry Banana Smoothie\"                                2.39  \r\n",
      "\"Sweet Tea\"                                                 1.49  \r\n",
      "\"Bacon  Egg & Cheese Bagel\"                                 3.29  \r\n",
      "\"Bacon  Egg & Cheese Bagel w/ Egg Whites\"                   4.99  \r\n",
      "\"Bacon  Egg & Cheese Biscuit\"                               1.39  \r\n",
      "\"Bacon  Egg & Cheese Biscuit w/ Egg Whites\"                 1.69  \r\n",
      "\"Bacon  Egg & Cheese McGriddles\"                            3.29  \r\n",
      "\"Bacon  Egg & Cheese McGriddles w/ Egg Whites\"              4.49  \r\n",
      "\"Big Breakfast w/ Egg Whites\"                               4.42  \r\n",
      "\"Big Breakfast w/ Hotcakes & Egg Whites\"                    5.49  \r\n",
      "\"Big Breakfast with Hotcakes\"                               6.1  \r\n",
      "\"Big Breakfast®\"                                            3.69  \r\n",
      "\"Cinnamon Melts\"                                            1.69  \r\n",
      "\"Egg McMuffin\"                                              2.79  \r\n",
      "\"Egg White Delight McMuffin\"                                2.79  \r\n",
      "\"Fruit & Maple Oatmeal w/ Brown Sugar\"                      1.99  \r\n",
      "\"Fruit & Maple Oatmeal w/o Brown Sugar\"                     1.99  \r\n",
      "\"Hash Brown\"                                                1.09  \r\n",
      "\"Hotcakes\"                                                  2.49  \r\n",
      "\"Hotcakes and Sausage\"                                      3.19  \r\n",
      "\"Sausage Biscuit\"                                           1.19  \r\n",
      "\"Sausage Biscuit w/ Egg Whites\"                             1.39  \r\n",
      "\"Sausage Biscuit with Egg\"                                  2.79  \r\n",
      "\"Sausage Burrito\"                                           1.29  \r\n",
      "\"Sausage McGriddles®\"                                       3.29  \r\n",
      "\"Sausage McMuffin w/ Egg Whites\"                            4.49  \r\n",
      "\"Sausage McMuffin®\"                                         1.19  \r\n",
      "\"Sausage McMuffin® with Egg\"                                1.39  \r\n",
      "\"Sausage  Egg & Cheese McGriddles\"                          3.29  \r\n",
      "\"Sausage  Egg & Cheese McGriddles Egg Whites\"               4.49  \r\n",
      "\"Southern Style Chicken Biscuit\"                            2.29  \r\n",
      "\"Steak & Egg Biscuit\"                                       3.99  \r\n",
      "\"Artisan Grilled Chicken Sandwich\"                          4.39  \r\n",
      "\"Bacon & Cheese Sirloin Third Pound Burger\"                 5  \r\n",
      "\"Bacon Buffalo Ranch McChicken\"                             2  \r\n",
      "\"Bacon Cheddar McChicken\"                                   2  \r\n",
      "\"Bacon Clubhouse Burger\"                                    4.49  \r\n",
      "\"Bacon Clubhouse Chicken Sandwich wC/ Chicken\"              4.19  \r\n",
      "\"Bacon Clubhouse Chicken Sandwich wG/ Chicken\"              4.19  \r\n",
      "\"Bacon McDouble\"                                            2  \r\n",
      "\"BBQ Ranch Burger\"                                          1  \r\n",
      "\"Big Mac\"                                                   3.99  \r\n",
      "\"Buffalo Ranch McChicken\"                                   1  \r\n",
      "\"Cheeseburger\"                                              2  \r\n",
      "\"Daily Double\"                                              1.39  \r\n",
      "\"Double Cheeseburger\"                                       1.69  \r\n",
      "\"Double Quarter Pounder® with Cheese\"                       3.79  \r\n",
      "\"Filet-O-Fish®\"                                             3.79  \r\n",
      "\"Grilled Onion Cheddar Burger\"                              1  \r\n",
      "\"Hamburger\"                                                 2.49  \r\n",
      "\"Jalapeño Double\"                                           2  \r\n",
      "\"Lettuce & Tomato Sirloin Third Pound Burger\"               4.99  \r\n",
      "\"McChicken\"                                                 2  \r\n",
      "\"McDouble\"                                                  2  \r\n",
      "\"McRib\"                                                     2.99  \r\n",
      "\"Old Bay Filet-O-Fish\"                                      3.79  \r\n",
      "\"Premium Buttermilk CrispyChicken DeluxeSandw\"              5  \r\n",
      "\"Premium Crispy Chicken Deluxe Sandwich\"                    5  \r\n",
      "\"Premium McWrap Chicken & Bacon wC/ Chicken\"                4.39  \r\n",
      "\"Premium McWrap Chicken & Bacon wG/ Chicken\"                4.39  \r\n",
      "\"Premium McWrap Chicken & Ranch wC/ Chicken\"                4.39  \r\n",
      "\"Premium McWrap Chicken & Ranch wG/ Chicken\"                4.39  \r\n",
      "\"Premium McWrap Chicken SweetChili wC/ Chicken\"             4.39  \r\n",
      "\"Premium McWrap Chicken SweetChili wG/ Chicken\"             4.39  \r\n",
      "\"Premium McWrap Southwest Chicken wC/ Chicken\"              4.99  \r\n",
      "\"Premium McWrap Southwest Chicken wG/ Chicken\"              4.99  \r\n",
      "\"Quarter Pounder Bacon & Cheese\"                            3.79  \r\n",
      "\"Quarter Pounder Deluxe\"                                    4.09  \r\n",
      "\"Quarter Pounder® with Cheese\"                              3.79  \r\n",
      "\"Southern Style Crispy Chicken Sandwich\"                    3.39  \r\n",
      "\"Steakhouse Sirloin Third Pound Burger\"                     5.19  \r\n",
      "\"Baked Hot Apple Pie\"                                       0.89  \r\n",
      "\"Chocolate Chip Cookie\"                                     0.89  \r\n",
      "\"Chocolate McCafe Shake\"                                    2.99  \r\n",
      "\"Fried Cherry Pie\"                                          0.89  \r\n",
      "\"Hot Caramel Sundae\"                                        1.19  \r\n",
      "\"Hot Fudge Sundae\"                                          1.19  \r\n",
      "\"Kiddie Ice Cream Cone\"                                     1  \r\n",
      "\"McCafe Shamrock Shake\"                                     1.79  \r\n",
      "\"McFlurry w/ M&M's Candies\"                                 2.39  \r\n",
      "\"McFlurry w/ OREO Cookies\"                                  2.39  \r\n",
      "\"Oatmeal Raisin Cookie\"                                     1.99  \r\n",
      "\"Pumpkin and Creme Pie\"                                     0.89  \r\n",
      "\"Strawberry & Creme Pie\"                                    0.89  \r\n",
      "\"Strawberry McCafe Shake\"                                   2.99  \r\n",
      "\"Strawberry Sundae\"                                         1.19  \r\n",
      "\"Premium Asian Salad w/ Crispy Chicken\"                     4.39  \r\n",
      "\"Premium Asian Salad w/ Grilled Chicken\"                    4.39  \r\n",
      "\"Premium Asian Salad w/o Chicken\"                           4.39  \r\n",
      "\"Premium Bacon Ranch Salad w/ Crispy Chicken\"               4.59  \r\n",
      "\"Premium Bacon Ranch Salad w/ Grilled Chicken\"              4.59  \r\n",
      "\"Premium Bacon Ranch Salad w/o Chicken\"                     4.59  \r\n",
      "\"Premium Southwest Salad w/ Crispy Chicken\"                 4.79  \r\n",
      "\"Premium Southwest Salad w/ Grilled Chicken\"                4.79  \r\n",
      "\"Premium Southwest Salad w/o Chicken\"                       4.79     ;\r\n"
     ]
    }
   ],
   "source": [
    "# Let's have a look to the data:\n",
    "# Mac or Linux ('!' meaning to be run through the terminal)\n",
    "!cat data/foodmax.dat\n",
    "\n",
    "# Windows via cmd.exe\n",
    "#!type data\\foodmax.dat"
   ]
  },
  {
   "cell_type": "markdown",
   "metadata": {
    "slideshow": {
     "slide_type": "skip"
    }
   },
   "source": [
    "**Note**: Window's users can use `!type data\\food-max.dat` command instead of `!cat data/food-max.dat`"
   ]
  },
  {
   "cell_type": "markdown",
   "metadata": {
    "slideshow": {
     "slide_type": "slide"
    }
   },
   "source": [
    "### Solving"
   ]
  },
  {
   "cell_type": "markdown",
   "metadata": {
    "slideshow": {
     "slide_type": "slide"
    }
   },
   "source": [
    "#### 3. Model"
   ]
  },
  {
   "cell_type": "code",
   "execution_count": 13,
   "metadata": {
    "collapsed": true,
    "slideshow": {
     "slide_type": "fragment"
    }
   },
   "outputs": [],
   "source": [
    "# The AbstractModel class provides a context for defining and initializing abstract optimization models in Pyomo\n",
    "\n",
    "model = AbstractModel()"
   ]
  },
  {
   "cell_type": "markdown",
   "metadata": {
    "slideshow": {
     "slide_type": "slide"
    }
   },
   "source": [
    "#### 4. Sets"
   ]
  },
  {
   "cell_type": "code",
   "execution_count": 14,
   "metadata": {
    "collapsed": true,
    "slideshow": {
     "slide_type": "fragment"
    }
   },
   "outputs": [],
   "source": [
    "## DEFINE SETS\n",
    "# Set data that is used to define a model instance\n",
    "\n",
    "# Products\n",
    "model.F = Set()\n",
    "# Nutrients\n",
    "model.N = Set()"
   ]
  },
  {
   "cell_type": "markdown",
   "metadata": {
    "slideshow": {
     "slide_type": "slide"
    }
   },
   "source": [
    "#### 5. Parameters"
   ]
  },
  {
   "cell_type": "code",
   "execution_count": 15,
   "metadata": {
    "collapsed": false,
    "slideshow": {
     "slide_type": "fragment"
    }
   },
   "outputs": [],
   "source": [
    "## DEFINE PARAMETERS\n",
    "# Parameter data that is used to define a model instance\n",
    "\n",
    "# Calories\n",
    "model.Cal = Param(model.F, within = PositiveReals)\n",
    "\n",
    "# Cost\n",
    "model.a    = Param(model.F, model.N, within = NonNegativeReals)\n",
    "\n",
    "# Max and Min Cost\n",
    "model.Cmin = Param(model.N, within = NonNegativeReals, default = 0.0)\n",
    "model.Cmax = Param(model.N, within = NonNegativeReals, default = infinity)"
   ]
  },
  {
   "cell_type": "markdown",
   "metadata": {
    "slideshow": {
     "slide_type": "slide"
    }
   },
   "source": [
    "#### 6. Variables"
   ]
  },
  {
   "cell_type": "code",
   "execution_count": 16,
   "metadata": {
    "collapsed": false,
    "scrolled": true,
    "slideshow": {
     "slide_type": "fragment"
    }
   },
   "outputs": [],
   "source": [
    "## VARIABLES\n",
    "# Decision variables in a model\n",
    "\n",
    "# Number of servings\n",
    "model.x = Var(model.F, within = NonNegativeIntegers)\n"
   ]
  },
  {
   "cell_type": "markdown",
   "metadata": {
    "slideshow": {
     "slide_type": "slide"
    }
   },
   "source": [
    "#### 7. Objective"
   ]
  },
  {
   "cell_type": "code",
   "execution_count": 17,
   "metadata": {
    "collapsed": false,
    "scrolled": true,
    "slideshow": {
     "slide_type": "fragment"
    }
   },
   "outputs": [],
   "source": [
    "## OBJECTIVE\n",
    "# Expressions that are minimized or maximized in a model\n",
    "\n",
    "# MAXIMIZE z(calories)\n",
    "def calories(model):\n",
    "    return sum(model.Cal[i] * model.x[i] for i in model.F)\n",
    "model.calories = Objective(rule=calories, sense=maximize)"
   ]
  },
  {
   "cell_type": "markdown",
   "metadata": {
    "slideshow": {
     "slide_type": "slide"
    }
   },
   "source": [
    "#### 8. Constrains"
   ]
  },
  {
   "cell_type": "code",
   "execution_count": 18,
   "metadata": {
    "collapsed": false,
    "scrolled": true,
    "slideshow": {
     "slide_type": "fragment"
    }
   },
   "outputs": [],
   "source": [
    "## CONSTRAINS\n",
    "# Constraint expressions that impose restrictions on variable values in a model\n",
    "\n",
    "#Max\n",
    "def cost_max(model, j):\n",
    "    value = sum(model.a[i,j] * model.x[i] for i in model.F)\n",
    "    return value <= model.Cmax[j]\n",
    "model.cost_limit_max = Constraint(model.N, rule=cost_max)\n",
    "\n",
    "#Min\n",
    "def cost_min(model, j):\n",
    "    value = sum(model.a[i,j] * model.x[i] for i in model.F)\n",
    "    return model.Cmin[j] <= value \n",
    "model.cost_limit_min = Constraint(model.N, rule=cost_min)"
   ]
  },
  {
   "cell_type": "markdown",
   "metadata": {
    "slideshow": {
     "slide_type": "slide"
    }
   },
   "source": [
    "#### 9. Solution"
   ]
  },
  {
   "cell_type": "code",
   "execution_count": 19,
   "metadata": {
    "collapsed": false,
    "slideshow": {
     "slide_type": "slide"
    }
   },
   "outputs": [
    {
     "name": "stdout",
     "output_type": "stream",
     "text": [
      "[    0.00] Setting up Pyomo environment\n",
      "[    0.00] Applying Pyomo preprocessing actions\n",
      "[    0.00] Creating model\n",
      "[    0.04] Applying solver\n",
      "[    0.06] Processing results\n",
      "    Number of solutions: 1\n",
      "    Solution Information\n",
      "      Gap: 0.0\n",
      "      Status: optimal\n",
      "      Function Value: 3550.0\n",
      "    Solver results file: results.yml\n",
      "[    0.06] Applying Pyomo postprocessing actions\n",
      "[    0.06] Pyomo Finished\n"
     ]
    }
   ],
   "source": [
    "##SOLUTION\n",
    "#Get our Solution:\n",
    "\n",
    "!pyomo solve --solver=glpk problems/diet-maximize/pyomo-max.py data/foodmax.dat\n",
    "\n",
    "# windows\n",
    "#!pyomo solve --solver=glpk problems\\diet-maximize\\pyomo-max.py data\\food-max.dat"
   ]
  },
  {
   "cell_type": "markdown",
   "metadata": {
    "slideshow": {
     "slide_type": "slide"
    }
   },
   "source": [
    "#### 10. Results"
   ]
  },
  {
   "cell_type": "code",
   "execution_count": 20,
   "metadata": {
    "collapsed": false,
    "slideshow": {
     "slide_type": "subslide"
    }
   },
   "outputs": [
    {
     "name": "stdout",
     "output_type": "stream",
     "text": [
      "# ==========================================================\r\n",
      "# = Solver Results                                         =\r\n",
      "# ==========================================================\r\n",
      "# ----------------------------------------------------------\r\n",
      "#   Problem Information\r\n",
      "# ----------------------------------------------------------\r\n",
      "Problem: \r\n",
      "- Name: unknown\r\n",
      "  Lower bound: 3550.0\r\n",
      "  Upper bound: 3550.0\r\n",
      "  Number of objectives: 1\r\n",
      "  Number of constraints: 3\r\n",
      "  Number of variables: 112\r\n",
      "  Number of nonzeros: 223\r\n",
      "  Sense: maximize\r\n",
      "# ----------------------------------------------------------\r\n",
      "#   Solver Information\r\n",
      "# ----------------------------------------------------------\r\n",
      "Solver: \r\n",
      "- Status: ok\r\n",
      "  Termination condition: optimal\r\n",
      "  Statistics: \r\n",
      "    Branch and bound: \r\n",
      "      Number of bounded subproblems: 49\r\n",
      "      Number of created subproblems: 49\r\n",
      "  Error rc: 0\r\n",
      "  Time: 0.009647369384765625\r\n",
      "# ----------------------------------------------------------\r\n",
      "#   Solution Information\r\n",
      "# ----------------------------------------------------------\r\n",
      "Solution: \r\n",
      "- number of solutions: 1\r\n",
      "  number of solutions displayed: 1\r\n",
      "- Gap: 0.0\r\n",
      "  Status: optimal\r\n",
      "  Message: None\r\n",
      "  Objective:\r\n",
      "    calories:\r\n",
      "      Value: 3550\r\n",
      "  Variable:\r\n",
      "    x[Strawberry & Creme Pie]:\r\n",
      "      Value: 2\r\n",
      "    x[Buffalo Ranch McChicken]:\r\n",
      "      Value: 1\r\n",
      "    x[Sausage Biscuit]:\r\n",
      "      Value: 6\r\n",
      "  Constraint: No values\r\n"
     ]
    }
   ],
   "source": [
    "## Lets have a look to the results now since we are hungry!\n",
    "# Mac or Linux ('!' meaning to be run through the terminal)\n",
    "!cat results.yml"
   ]
  },
  {
   "cell_type": "markdown",
   "metadata": {
    "slideshow": {
     "slide_type": "slide"
    }
   },
   "source": [
    "##### Results"
   ]
  },
  {
   "cell_type": "markdown",
   "metadata": {
    "slideshow": {
     "slide_type": "subslide"
    }
   },
   "source": [
    "- ** 1 Buffalo Ranch McChicken** 1.00 Dolar\n",
    "<img src=\"img/BuffaloRanchMcChicken.png\" alt=\"Hamburger\" style=\"width: 200px;\"/>\n",
    "\n",
    "- ** 6 Sausage Biscuit =** 7.14 Dolar\n",
    "<img src=\"img/sausage-biscuit.jpg\" alt=\"Biscuit\" style=\"width: 300px;\"/>\n",
    "\n",
    "- **2 Strawberry & Creme Pie =** 1.78 Dolar\n",
    "<img src=\"img/mcdonalds-strawberry-and-creme-pie.jpg\" alt=\"CremePie\" style=\"width: 300px;\"/>"
   ]
  }
 ],
 "metadata": {
  "anaconda-cloud": {},
  "celltoolbar": "Slideshow",
  "kernelspec": {
   "display_name": "Python [pyomo35]",
   "language": "python",
   "name": "Python [pyomo35]"
  },
  "language_info": {
   "codemirror_mode": {
    "name": "ipython",
    "version": 3
   },
   "file_extension": ".py",
   "mimetype": "text/x-python",
   "name": "python",
   "nbconvert_exporter": "python",
   "pygments_lexer": "ipython3",
   "version": "3.5.2"
  }
 },
 "nbformat": 4,
 "nbformat_minor": 0
}
